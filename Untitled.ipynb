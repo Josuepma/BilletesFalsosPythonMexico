{
 "cells": [
  {
   "cell_type": "code",
   "execution_count": 2,
   "id": "c8879d25",
   "metadata": {},
   "outputs": [],
   "source": [
    "# carpeta de drive con imagenes: \n",
    "# https://drive.google.com/drive/folders/1v4V4WuqLqjzT-V2j6jRMzxD7C8Bu8H2X\n",
    "\n",
    "# biblioteca opencv para el procesamiento de imagenes\n",
    "\n",
    "import cv2\n",
    "\n",
    "# biblioteca para las rutas del sistema (integrada en python)\n",
    "\n",
    "import pathlib\n",
    "\n",
    "# biblioteca scikit-learn para los clasificadores\n",
    "\n",
    "from sklearn import datasets\n",
    "from sklearn import linear_model\n",
    "from sklearn.datasets import make_classification\n",
    "from sklearn.model_selection import KFold\n",
    "from sklearn.model_selection import cross_val_score\n",
    "from sklearn import preprocessing\n",
    "from sklearn.preprocessing import StandardScaler\n",
    "from sklearn import linear_model\n",
    "from sklearn.svm import LinearSVC\n",
    "from sklearn.tree import DecisionTreeClassifier\n",
    "from sklearn.neighbors import KNeighborsClassifier\n",
    "from sklearn.neural_network import MLPClassifier\n",
    "from sklearn.ensemble import RandomForestClassifier\n",
    "from sklearn.ensemble import StackingClassifier\n",
    "from sklearn.svm import SVC\n",
    "from sklearn.model_selection import train_test_split\n",
    "from sklearn import metrics\n",
    "from sklearn.neural_network import MLPClassifier\n",
    "from sklearn.pipeline import make_pipeline\n",
    "from sklearn.linear_model import LogisticRegression\n",
    "from sklearn.tree import DecisionTreeRegressor\n",
    "\n",
    "# biblioteca matplotlib para graficas y otras utilidades matemáticas\n",
    "\n",
    "import matplotlib.pyplot as plt\n",
    "\n",
    "# biblioteca numpy para los arreglos y otras utilidades matemáticas\n",
    "\n",
    "import numpy as np\n",
    "\n",
    "# biblioteca pandas para los datasets \n",
    "\n",
    "import pandas as pd\n",
    "\n",
    "# la ruta especifica de la imagen siendo \"images\" la ruta donde guardamos las imagenes\n",
    "route_img = str('images') \n",
    "#print(route_img)"
   ]
  },
  {
   "cell_type": "code",
   "execution_count": 3,
   "id": "1829b1c6",
   "metadata": {},
   "outputs": [],
   "source": [
    "# billeton.png es el nombre de la imagen por defecto\n",
    "# el metodo retorna el objeto cv2 de la imagen especificadoa\n",
    "def load_img(name=\"billeton.png\"):\n",
    "    return cv2.imread(route_img+'/'+name,1)\n",
    "\n",
    "# El metodo muestra la imagen especificada\n",
    "# recibe un objeto cv2 y el nombre de la ventana, por defecto \"imagen\"\n",
    "def display_img(img,name=\"imagen\"):\n",
    "    cv2.imshow(name,img)\n",
    "    cv2.waitKey()\n",
    "\n",
    "# INTER_NEAREST\n",
    "# INTER_LINEAR\n",
    "# INTER_AREA\n",
    "# INTER_CUBIC\n",
    "# INTER_LANCZOS4\n",
    "# percent of original size\n",
    "def resize_img(img,scale_percent = 200, i = cv2.INTER_AREA):\n",
    "    width = int(img.shape[1] * scale_percent / 100)\n",
    "    height = int(img.shape[0] * scale_percent / 100)\n",
    "    dim = (width, height)\n",
    "    # resize image\n",
    "    resized = cv2.resize(img, dim, interpolation = i)\n",
    "    return resized\n",
    "\n",
    "#img = load_img('billeton.png')\n",
    "#display_img(img)"
   ]
  },
  {
   "cell_type": "code",
   "execution_count": 4,
   "id": "2a2267d3",
   "metadata": {},
   "outputs": [],
   "source": [
    "verdadero = load_img('Billetes_de_20/billete_20.jpg')\n",
    "falso = load_img('Billetes_de_20/billete_F_20.png')\n",
    "falso = resize_img(falso,400,cv2.INTER_LANCZOS4)"
   ]
  },
  {
   "cell_type": "code",
   "execution_count": 5,
   "id": "b27dde20",
   "metadata": {},
   "outputs": [],
   "source": [
    "display_img(verdadero,\"verdadero\")\n",
    "display_img(falso,\"falso\")\n"
   ]
  },
  {
   "cell_type": "code",
   "execution_count": null,
   "id": "4a6b2281",
   "metadata": {},
   "outputs": [],
   "source": []
  }
 ],
 "metadata": {
  "kernelspec": {
   "display_name": "Python 3 (ipykernel)",
   "language": "python",
   "name": "python3"
  },
  "language_info": {
   "codemirror_mode": {
    "name": "ipython",
    "version": 3
   },
   "file_extension": ".py",
   "mimetype": "text/x-python",
   "name": "python",
   "nbconvert_exporter": "python",
   "pygments_lexer": "ipython3",
   "version": "3.8.10"
  }
 },
 "nbformat": 4,
 "nbformat_minor": 5
}
