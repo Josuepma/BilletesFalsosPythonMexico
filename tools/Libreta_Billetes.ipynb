{
 "cells": [
  {
   "cell_type": "code",
   "execution_count": 35,
   "id": "c8879d25",
   "metadata": {},
   "outputs": [],
   "source": [
    "# carpeta de drive con imagenes: \n",
    "# https://drive.google.com/drive/folders/1v4V4WuqLqjzT-V2j6jRMzxD7C8Bu8H2X\n",
    "\n",
    "# biblioteca opencv para el procesamiento de imagenes\n",
    "\n",
    "import cv2\n",
    "\n",
    "# biblioteca para las rutas del sistema (integrada en python)\n",
    "\n",
    "import pathlib\n",
    "\n",
    "# biblioteca scikit-learn para los clasificadores\n",
    "\n",
    "from sklearn.datasets import make_classification\n",
    "from sklearn.model_selection import KFold\n",
    "from sklearn.model_selection import cross_val_score\n",
    "from sklearn.tree import DecisionTreeClassifier\n",
    "from sklearn.neighbors import KNeighborsClassifier\n",
    "from sklearn.neural_network import MLPClassifier\n",
    "from sklearn.ensemble import RandomForestClassifier,AdaBoostClassifier\n",
    "from sklearn.model_selection import train_test_split\n",
    "from sklearn import metrics\n",
    "from sklearn.neural_network import MLPClassifier\n",
    "from sklearn.pipeline import make_pipeline\n",
    "from sklearn.gaussian_process import GaussianProcessClassifier\n",
    "from sklearn.gaussian_process.kernels import RBF\n",
    "from sklearn.linear_model import LogisticRegression\n",
    "from sklearn.metrics import accuracy_score\n",
    "from sklearn.svm import SVC\n",
    "from sklearn.preprocessing import StandardScaler \n",
    "\n",
    "# biblioteca matplotlib para graficas y otras utilidades matemáticas\n",
    "\n",
    "import matplotlib.pyplot as plt\n",
    "\n",
    "# biblioteca numpy para los arreglos y otras utilidades matemáticas\n",
    "\n",
    "import numpy as np\n",
    "\n",
    "# biblioteca pandas para los datasets \n",
    "\n",
    "import pandas as pd\n",
    "\n",
    "# la ruta especifica de la imagen siendo \"images\" la ruta donde guardamos las imagenes\n",
    "route_img = str('images') \n",
    "#print(route_img)"
   ]
  },
  {
   "cell_type": "code",
   "execution_count": 19,
   "id": "1829b1c6",
   "metadata": {},
   "outputs": [],
   "source": [
    "# billeton.png es el nombre de la imagen por defecto\n",
    "# el metodo retorna el objeto cv2 de la imagen especificadoa\n",
    "def load_img(name=\"billeton.png\"):\n",
    "    return cv2.imread(route_img+'/'+name,1)\n",
    "\n",
    "# El metodo muestra la imagen especificada\n",
    "# recibe un objeto cv2 y el nombre de la ventana, por defecto \"imagen\"\n",
    "def display_img(img,name=\"imagen\"):\n",
    "    cv2.imshow(name,img)\n",
    "    cv2.waitKey()\n",
    "    \n",
    "#img = load_img('billeton.png')\n",
    "#display_img(img)"
   ]
  },
  {
   "cell_type": "code",
   "execution_count": 20,
   "id": "5c752991",
   "metadata": {},
   "outputs": [],
   "source": [
    "# INTER_NEAREST\n",
    "# INTER_LINEAR\n",
    "# INTER_AREA\n",
    "# INTER_CUBIC\n",
    "# INTER_LANCZOS4\n",
    "# percent of original size\n",
    "def resize_img(img,scale_percent = 200, i = cv2.INTER_AREA):\n",
    "    width = int(img.shape[1] * scale_percent / 100)\n",
    "    height = int(img.shape[0] * scale_percent / 100)\n",
    "    dim = (width, height)\n",
    "    # resize image\n",
    "    resized = cv2.resize(img, dim, interpolation = i)\n",
    "    return resized"
   ]
  },
  {
   "cell_type": "code",
   "execution_count": 21,
   "id": "12f75e6e",
   "metadata": {},
   "outputs": [],
   "source": [
    "def resize_img(img,width = 800,height = 400, i = cv2.INTER_AREA):\n",
    "    dim = (width, height)\n",
    "    # resize image\n",
    "    resized = cv2.resize(img, dim, interpolation = i)\n",
    "    return resized"
   ]
  },
  {
   "cell_type": "code",
   "execution_count": 28,
   "id": "2a2267d3",
   "metadata": {},
   "outputs": [],
   "source": [
    "verdadero = load_img('Billetes_de_50/billete_50.jpg')\n",
    "verdadero = resize_img(verdadero,i = cv2.INTER_LANCZOS4)\n",
    "falso = load_img('billeteF_50/billeteF_50.jpg')\n",
    "falso = resize_img(falso,i = cv2.INTER_LANCZOS4)\n"
   ]
  },
  {
   "cell_type": "code",
   "execution_count": 29,
   "id": "b27dde20",
   "metadata": {},
   "outputs": [],
   "source": [
    "display_img(verdadero,\"verdadero\")\n",
    "display_img(falso,\"falso\")\n",
    "cv2.destroyAllWindows()"
   ]
  },
  {
   "cell_type": "code",
   "execution_count": 33,
   "id": "4a6b2281",
   "metadata": {},
   "outputs": [],
   "source": [
    "imgheight=verdadero.shape[0]\n",
    "imgwidth=verdadero.shape[1]\n",
    "image_copy = verdadero.copy()\n",
    "\n",
    "#Recortando el billete\n",
    "M = 200\n",
    "N = 200\n",
    "x1 = 0\n",
    "y1 = 0\n",
    "\n",
    "for y in range(0, imgheight, M):\n",
    "    for x in range(0, imgwidth, N):\n",
    "        if (imgheight - y) < M or (imgwidth - x) < N:\n",
    "            break\n",
    "            \n",
    "        y1 = y + M\n",
    "        x1 = x + N\n",
    "\n",
    "        # check whether the patch width or height exceeds the image width or height\n",
    "        if x1 >= imgwidth and y1 >= imgheight:\n",
    "            x1 = imgwidth - 1\n",
    "            y1 = imgheight - 1\n",
    "            #Crop into patches of size MxN\n",
    "            tiles = image_copy[y:y+M, x:x+N]\n",
    "            #Save each patch into file directory\n",
    "            cv2.imwrite(route_img + 'saved_patches/'+'tile'+str(x)+'_'+str(y)+'.jpg', tiles)\n",
    "            cv2.rectangle(image_copy, (x, y), (x1, y1), (0, 255, 0), 1)\n",
    "        elif y1 >= imgheight: # when patch height exceeds the image height\n",
    "            y1 = imgheight - 1\n",
    "            #Crop into patches of size MxN\n",
    "            tiles = image_copy[y:y+M, x:x+N]\n",
    "            #Save each patch into file directory\n",
    "            cv2.imwrite(route_img + 'saved_patches/'+'tile'+str(x)+'_'+str(y)+'.jpg', tiles)\n",
    "            cv2.rectangle(image_copy, (x, y), (x1, y1), (0, 255, 0), 1)\n",
    "        elif x1 >= imgwidth: # when patch width exceeds the image width\n",
    "            x1 = imgwidth - 1\n",
    "            #Crop into patches of size MxN\n",
    "            tiles = image_copy[y:y+M, x:x+N]\n",
    "            #Save each patch into file directory\n",
    "            cv2.imwrite(route_img + 'saved_patches/'+'tile'+str(x)+'_'+str(y)+'.jpg', tiles)\n",
    "            cv2.rectangle(image_copy, (x, y), (x1, y1), (0, 255, 0), 1)\n",
    "        else:\n",
    "            #Crop into patches of size MxN\n",
    "            tiles = image_copy[y:y+M, x:x+N]\n",
    "            #Save each patch into file directory\n",
    "            cv2.imwrite(route_img + 'saved_patches/'+'tile'+str(x)+'_'+str(y)+'.jpg', tiles)\n",
    "            cv2.rectangle(image_copy, (x, y), (x1, y1), (0, 255, 0), 1)"
   ]
  },
  {
   "cell_type": "code",
   "execution_count": 34,
   "id": "ae11b9bf",
   "metadata": {},
   "outputs": [],
   "source": [
    "display_img(image_copy,\"verdadero\")\n",
    "cv2.destroyAllWindows()"
   ]
  },
  {
   "cell_type": "code",
   "execution_count": 51,
   "id": "ec0ac101",
   "metadata": {},
   "outputs": [
    {
     "name": "stdout",
     "output_type": "stream",
     "text": [
      "    c1  c2  c3  b\n",
      "0    1   1   1  1\n",
      "1    0   0   0  0\n",
      "2    1   0   0  0\n",
      "3    0   0   0  0\n",
      "4    1   1   0  1\n",
      "5    1   1   0  1\n",
      "6    1   1   0  1\n",
      "7    1   0   0  0\n",
      "8    1   1   1  1\n",
      "9    0   0   0  0\n",
      "10   0   1   1  0\n",
      "11   1   1   0  1\n",
      "12   0   1   0  0\n",
      "13   1   0   0  0\n",
      "14   0   0   0  0\n",
      "15   1   1   0  1\n",
      "16   0   0   0  0\n",
      "17   0   0   0  0\n",
      "18   0   0   0  0\n",
      "19   0   0   0  0\n",
      "20   0   0   0  0\n",
      "21   0   0   0  0\n",
      "22   0   0   0  0\n",
      "[[1 0 0]\n",
      " [0 0 0]\n",
      " [1 1 0]\n",
      " [1 1 0]\n",
      " [0 0 0]\n",
      " [0 0 0]\n",
      " [0 0 0]\n",
      " [0 1 1]\n",
      " [1 1 0]\n",
      " [1 0 0]\n",
      " [0 0 0]\n",
      " [1 0 0]\n",
      " [1 1 0]\n",
      " [0 0 0]\n",
      " [1 1 1]\n",
      " [0 0 0]]\n",
      "[[0 0 0]\n",
      " [0 0 0]\n",
      " [0 1 0]\n",
      " [1 1 0]\n",
      " [1 1 1]\n",
      " [0 0 0]\n",
      " [0 0 0]]\n",
      "7     0\n",
      "3     0\n",
      "6     1\n",
      "4     1\n",
      "18    0\n",
      "14    0\n",
      "1     0\n",
      "10    0\n",
      "15    1\n",
      "2     0\n",
      "17    0\n",
      "13    0\n",
      "5     1\n",
      "16    0\n",
      "8     1\n",
      "19    0\n",
      "Name: b, dtype: int64\n",
      "22    0\n",
      "9     0\n",
      "12    0\n",
      "11    1\n",
      "0     1\n",
      "20    0\n",
      "21    0\n",
      "Name: b, dtype: int64\n"
     ]
    }
   ],
   "source": [
    "df = pd.read_csv('Billetes50C1.csv')\n",
    "print(df)\n",
    "target = df['b']\n",
    "del df['b']\n",
    "X_train, X_test, y_train, y_test = train_test_split(df.values, target, test_size=0.3, random_state=27)\n",
    "print(X_train)\n",
    "print(X_test)\n",
    "print(y_train)\n",
    "print(y_test)"
   ]
  },
  {
   "cell_type": "code",
   "execution_count": 52,
   "id": "024f263a",
   "metadata": {},
   "outputs": [],
   "source": [
    "def get_accuracy(model, X, y):\n",
    "  cv = KFold(n_splits=10, random_state=1, shuffle=True)\n",
    "  scores = cross_val_score(model, X, y, scoring='accuracy', cv=cv, n_jobs=-1)\n",
    "  print(\"Scores\", scores)\n",
    "  print('Accuracy: %.3f (%.3f)' % (np.mean(scores), np.std(scores)))"
   ]
  },
  {
   "cell_type": "code",
   "execution_count": 53,
   "id": "c6f7ce56",
   "metadata": {},
   "outputs": [
    {
     "name": "stdout",
     "output_type": "stream",
     "text": [
      "Decision tree classifier:  1.0\n",
      "Scores [1. 1. 1. 1. 1. 1. 1. 1. 1. 1.]\n",
      "Accuracy: 1.000 (0.000)\n"
     ]
    }
   ],
   "source": [
    "classifier = DecisionTreeClassifier()\n",
    "classifier = classifier.fit(X_train, y_train)\n",
    "print(\"Decision tree classifier: \", classifier.score(X_train, y_train))\n",
    "get_accuracy(classifier, df.values, target)\n"
   ]
  },
  {
   "cell_type": "code",
   "execution_count": 54,
   "id": "cd3fcabf",
   "metadata": {},
   "outputs": [
    {
     "name": "stdout",
     "output_type": "stream",
     "text": [
      "RandomForest classifier\n",
      "Scores [1. 1. 1. 1. 1. 1. 1. 1. 1. 1.]\n",
      "Accuracy: 1.000 (0.000)\n"
     ]
    }
   ],
   "source": [
    "print(\"RandomForest classifier\")\n",
    "classifier = RandomForestClassifier()\n",
    "classifier.fit(X_train,y_train)\n",
    "classifier.score(X_train,y_train)\n",
    "get_accuracy(classifier, df.values, target)"
   ]
  },
  {
   "cell_type": "code",
   "execution_count": 55,
   "id": "97266cfe",
   "metadata": {},
   "outputs": [
    {
     "name": "stdout",
     "output_type": "stream",
     "text": [
      "mlp classifier\n"
     ]
    },
    {
     "name": "stderr",
     "output_type": "stream",
     "text": [
      "C:\\Users\\Josue\\AppData\\Local\\Programs\\Python\\Python38\\lib\\site-packages\\sklearn\\neural_network\\_multilayer_perceptron.py:692: ConvergenceWarning: Stochastic Optimizer: Maximum iterations (400) reached and the optimization hasn't converged yet.\n",
      "  warnings.warn(\n"
     ]
    },
    {
     "data": {
      "text/plain": [
       "1.0"
      ]
     },
     "execution_count": 55,
     "metadata": {},
     "output_type": "execute_result"
    }
   ],
   "source": [
    "print(\"mlp classifier\")\n",
    "classifier = MLPClassifier(max_iter=400)\n",
    "classifier.fit(X_train, y_train)\n",
    "classifier.score(X_train, y_train)\n",
    "#get_accuracy(classifier, X_train, y_train)"
   ]
  },
  {
   "cell_type": "code",
   "execution_count": 56,
   "id": "85f15dad",
   "metadata": {},
   "outputs": [
    {
     "name": "stdout",
     "output_type": "stream",
     "text": [
      "KNeighborsClassifier\n",
      "Accuracy: 0.8571428571428571\n"
     ]
    }
   ],
   "source": [
    "print(\"KNeighborsClassifier\")\n",
    "model = KNeighborsClassifier(3)\n",
    "model = model.fit(X_train, y_train)\n",
    "y_pred = model.predict(X_test)\n",
    "print(\"Accuracy:\",metrics.accuracy_score(y_test, y_pred))"
   ]
  },
  {
   "cell_type": "code",
   "execution_count": 57,
   "id": "cf34d2c5",
   "metadata": {},
   "outputs": [
    {
     "name": "stdout",
     "output_type": "stream",
     "text": [
      "Ada\n"
     ]
    },
    {
     "data": {
      "text/plain": [
       "1.0"
      ]
     },
     "execution_count": 57,
     "metadata": {},
     "output_type": "execute_result"
    }
   ],
   "source": [
    "print(\"Ada\")\n",
    "classifier = AdaBoostClassifier()\n",
    "classifier.fit(X_train, y_train)\n",
    "classifier.score(X_train, y_train)\n",
    "#get_accuracy(classifier, X_train, y_train)"
   ]
  },
  {
   "cell_type": "code",
   "execution_count": 58,
   "id": "ef17459d",
   "metadata": {},
   "outputs": [
    {
     "name": "stdout",
     "output_type": "stream",
     "text": [
      "[0 0 0 1 1 0 0]\n",
      "1.0\n"
     ]
    }
   ],
   "source": [
    "from sklearn.naive_bayes import GaussianNB\n",
    "from sklearn.metrics import accuracy_score\n",
    "# Initialize classifier:\n",
    "gnb = GaussianNB()\n",
    "\n",
    "# Train the classifier:\n",
    "model = gnb.fit(X_train, y_train)\n",
    "# Make predictions with the classifier:\n",
    "predictive_labels = gnb.predict(X_test)\n",
    "print(predictive_labels)\n",
    "\n",
    "# Evaluate label (subsets) accuracy:\n",
    "print(accuracy_score(y_test, predictive_labels))"
   ]
  },
  {
   "cell_type": "code",
   "execution_count": 42,
   "id": "b823f327",
   "metadata": {},
   "outputs": [
    {
     "name": "stdout",
     "output_type": "stream",
     "text": [
      "images\\billetes_de_50\\50F1_ubicacion_ventanasTransp.png\n",
      "images\\billetes_de_50\\50_marcaAgua.png\n",
      "images\\billetes_de_50\\b51_1.jpg\n",
      "images\\billetes_de_50\\billete de 50.jpg\n",
      "images\\billetes_de_50\\billete de 50_10.jpg\n",
      "images\\billetes_de_50\\billete de 50_11.jpg\n",
      "images\\billetes_de_50\\billete de 50_12.jpg\n",
      "images\\billetes_de_50\\billete de 50_13.jpg\n",
      "images\\billetes_de_50\\billete de 50_14.jpg\n",
      "images\\billetes_de_50\\billete de 50_15.jpg\n",
      "images\\billetes_de_50\\billete de 50_2.jpg\n",
      "images\\billetes_de_50\\billete de 50_3.jpg\n",
      "images\\billetes_de_50\\billete de 50_4.jpg\n",
      "images\\billetes_de_50\\billeteF_50.jpg\n",
      "images\\billetes_de_50\\billeteF_50_2.jpg\n",
      "images\\billetes_de_50\\billeteF_50_3.jpg\n",
      "images\\billetes_de_50\\billeteF_50_4.jpg\n",
      "images\\billetes_de_50\\billeteF_50_5.jpg\n",
      "images\\billetes_de_50\\billeteF_50_6.jpg\n",
      "images\\billetes_de_50\\billete_50.jpg\n",
      "images\\billetes_de_50\\billete_50_10.jpg\n",
      "images\\billetes_de_50\\billete_50_11.jpg\n",
      "images\\billetes_de_50\\billete_50_12.jpg\n",
      "images\\billetes_de_50\\billete_50_5.jpg\n",
      "images\\billetes_de_50\\billete_50_6.jpg\n",
      "images\\billetes_de_50\\billete_50_7.jpg\n",
      "images\\billetes_de_50\\billete_50_8.jpg\n",
      "images\\billetes_de_50\\billete_50_9.jpg\n"
     ]
    }
   ],
   "source": [
    "from pathlib import Path\n",
    "p = Path('images/billetes_de_50')\n",
    "for child in p.iterdir(): \n",
    "    print(child)"
   ]
  }
 ],
 "metadata": {
  "kernelspec": {
   "display_name": "Python 3 (ipykernel)",
   "language": "python",
   "name": "python3"
  },
  "language_info": {
   "codemirror_mode": {
    "name": "ipython",
    "version": 3
   },
   "file_extension": ".py",
   "mimetype": "text/x-python",
   "name": "python",
   "nbconvert_exporter": "python",
   "pygments_lexer": "ipython3",
   "version": "3.8.10"
  }
 },
 "nbformat": 4,
 "nbformat_minor": 5
}
